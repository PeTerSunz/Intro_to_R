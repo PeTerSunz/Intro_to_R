{
 "cells": [
  {
   "cell_type": "markdown",
   "metadata": {
    "collapsed": true
   },
   "source": [
    "## Data Wrangling\n",
    "\n",
    "Let's do some data wrangling - one of the most important skills of data analyst"
   ]
  },
  {
   "cell_type": "code",
   "execution_count": 1,
   "metadata": {},
   "outputs": [
    {
     "data": {
      "text/html": [
       "<table>\n",
       "<thead><tr><th></th><th scope=col>mpg</th><th scope=col>cyl</th><th scope=col>disp</th><th scope=col>hp</th><th scope=col>drat</th><th scope=col>wt</th><th scope=col>qsec</th><th scope=col>vs</th><th scope=col>am</th><th scope=col>gear</th><th scope=col>carb</th></tr></thead>\n",
       "<tbody>\n",
       "\t<tr><th scope=row>Mazda RX4</th><td>21.0 </td><td>6    </td><td>160  </td><td>110  </td><td>3.90 </td><td>2.620</td><td>16.46</td><td>0    </td><td>1    </td><td>4    </td><td>4    </td></tr>\n",
       "\t<tr><th scope=row>Mazda RX4 Wag</th><td>21.0 </td><td>6    </td><td>160  </td><td>110  </td><td>3.90 </td><td>2.875</td><td>17.02</td><td>0    </td><td>1    </td><td>4    </td><td>4    </td></tr>\n",
       "\t<tr><th scope=row>Datsun 710</th><td>22.8 </td><td>4    </td><td>108  </td><td> 93  </td><td>3.85 </td><td>2.320</td><td>18.61</td><td>1    </td><td>1    </td><td>4    </td><td>1    </td></tr>\n",
       "</tbody>\n",
       "</table>\n"
      ],
      "text/latex": [
       "\\begin{tabular}{r|lllllllllll}\n",
       "  & mpg & cyl & disp & hp & drat & wt & qsec & vs & am & gear & carb\\\\\n",
       "\\hline\n",
       "\tMazda RX4 & 21.0  & 6     & 160   & 110   & 3.90  & 2.620 & 16.46 & 0     & 1     & 4     & 4    \\\\\n",
       "\tMazda RX4 Wag & 21.0  & 6     & 160   & 110   & 3.90  & 2.875 & 17.02 & 0     & 1     & 4     & 4    \\\\\n",
       "\tDatsun 710 & 22.8  & 4     & 108   &  93   & 3.85  & 2.320 & 18.61 & 1     & 1     & 4     & 1    \\\\\n",
       "\\end{tabular}\n"
      ],
      "text/markdown": [
       "\n",
       "| <!--/--> | mpg | cyl | disp | hp | drat | wt | qsec | vs | am | gear | carb | \n",
       "|---|---|---|\n",
       "| Mazda RX4 | 21.0  | 6     | 160   | 110   | 3.90  | 2.620 | 16.46 | 0     | 1     | 4     | 4     | \n",
       "| Mazda RX4 Wag | 21.0  | 6     | 160   | 110   | 3.90  | 2.875 | 17.02 | 0     | 1     | 4     | 4     | \n",
       "| Datsun 710 | 22.8  | 4     | 108   |  93   | 3.85  | 2.320 | 18.61 | 1     | 1     | 4     | 1     | \n",
       "\n",
       "\n"
      ],
      "text/plain": [
       "              mpg  cyl disp hp  drat wt    qsec  vs am gear carb\n",
       "Mazda RX4     21.0 6   160  110 3.90 2.620 16.46 0  1  4    4   \n",
       "Mazda RX4 Wag 21.0 6   160  110 3.90 2.875 17.02 0  1  4    4   \n",
       "Datsun 710    22.8 4   108   93 3.85 2.320 18.61 1  1  4    1   "
      ]
     },
     "metadata": {},
     "output_type": "display_data"
    }
   ],
   "source": [
    "## print first six rows\n",
    "head(mtcars, 3)"
   ]
  },
  {
   "cell_type": "code",
   "execution_count": 2,
   "metadata": {},
   "outputs": [
    {
     "name": "stdout",
     "output_type": "stream",
     "text": [
      "'data.frame':\t32 obs. of  11 variables:\n",
      " $ mpg : num  21 21 22.8 21.4 18.7 18.1 14.3 24.4 22.8 19.2 ...\n",
      " $ cyl : num  6 6 4 6 8 6 8 4 4 6 ...\n",
      " $ disp: num  160 160 108 258 360 ...\n",
      " $ hp  : num  110 110 93 110 175 105 245 62 95 123 ...\n",
      " $ drat: num  3.9 3.9 3.85 3.08 3.15 2.76 3.21 3.69 3.92 3.92 ...\n",
      " $ wt  : num  2.62 2.88 2.32 3.21 3.44 ...\n",
      " $ qsec: num  16.5 17 18.6 19.4 17 ...\n",
      " $ vs  : num  0 0 1 1 0 1 0 1 1 1 ...\n",
      " $ am  : num  1 1 1 0 0 0 0 0 0 0 ...\n",
      " $ gear: num  4 4 4 3 3 3 3 4 4 4 ...\n",
      " $ carb: num  4 4 1 1 2 1 4 2 2 4 ...\n"
     ]
    }
   ],
   "source": [
    "## review structures of the dataframe\n",
    "str(mtcars)"
   ]
  },
  {
   "cell_type": "code",
   "execution_count": 3,
   "metadata": {},
   "outputs": [
    {
     "data": {
      "text/plain": [
       "      mpg             cyl             disp             hp       \n",
       " Min.   :10.40   Min.   :4.000   Min.   : 71.1   Min.   : 52.0  \n",
       " 1st Qu.:15.43   1st Qu.:4.000   1st Qu.:120.8   1st Qu.: 96.5  \n",
       " Median :19.20   Median :6.000   Median :196.3   Median :123.0  \n",
       " Mean   :20.09   Mean   :6.188   Mean   :230.7   Mean   :146.7  \n",
       " 3rd Qu.:22.80   3rd Qu.:8.000   3rd Qu.:326.0   3rd Qu.:180.0  \n",
       " Max.   :33.90   Max.   :8.000   Max.   :472.0   Max.   :335.0  \n",
       "      drat             wt             qsec             vs        \n",
       " Min.   :2.760   Min.   :1.513   Min.   :14.50   Min.   :0.0000  \n",
       " 1st Qu.:3.080   1st Qu.:2.581   1st Qu.:16.89   1st Qu.:0.0000  \n",
       " Median :3.695   Median :3.325   Median :17.71   Median :0.0000  \n",
       " Mean   :3.597   Mean   :3.217   Mean   :17.85   Mean   :0.4375  \n",
       " 3rd Qu.:3.920   3rd Qu.:3.610   3rd Qu.:18.90   3rd Qu.:1.0000  \n",
       " Max.   :4.930   Max.   :5.424   Max.   :22.90   Max.   :1.0000  \n",
       "       am              gear            carb      \n",
       " Min.   :0.0000   Min.   :3.000   Min.   :1.000  \n",
       " 1st Qu.:0.0000   1st Qu.:3.000   1st Qu.:2.000  \n",
       " Median :0.0000   Median :4.000   Median :2.000  \n",
       " Mean   :0.4062   Mean   :3.688   Mean   :2.812  \n",
       " 3rd Qu.:1.0000   3rd Qu.:4.000   3rd Qu.:4.000  \n",
       " Max.   :1.0000   Max.   :5.000   Max.   :8.000  "
      ]
     },
     "metadata": {},
     "output_type": "display_data"
    }
   ],
   "source": [
    "## summarise dataframe\n",
    "summary(mtcars)"
   ]
  },
  {
   "cell_type": "code",
   "execution_count": 4,
   "metadata": {},
   "outputs": [
    {
     "data": {
      "text/html": [
       "335"
      ],
      "text/latex": [
       "335"
      ],
      "text/markdown": [
       "335"
      ],
      "text/plain": [
       "[1] 335"
      ]
     },
     "metadata": {},
     "output_type": "display_data"
    }
   ],
   "source": [
    "max( mtcars$hp )"
   ]
  },
  {
   "cell_type": "code",
   "execution_count": 5,
   "metadata": {},
   "outputs": [
    {
     "name": "stdout",
     "output_type": "stream",
     "text": [
      "[1] 20.09062\n",
      "[1] 19.2\n",
      "[1] 6.026948\n",
      "[1] 36.3241\n",
      "[1] 10.4\n",
      "[1] 33.9\n",
      "[1] 10.4 33.9\n",
      "    0%    25%    50%    75%   100% \n",
      "10.400 15.425 19.200 22.800 33.900 \n"
     ]
    }
   ],
   "source": [
    "## compute basic statistics\n",
    "print( mean(mtcars$mpg) )\n",
    "print( median(mtcars$mpg) )\n",
    "print( sd(mtcars$mpg) )\n",
    "print( var(mtcars$mpg) )\n",
    "print( min(mtcars$mpg) )\n",
    "print( max(mtcars$mpg) )\n",
    "print( range(mtcars$mpg) )\n",
    "print( quantile(mtcars$mpg) )"
   ]
  },
  {
   "cell_type": "code",
   "execution_count": 6,
   "metadata": {},
   "outputs": [
    {
     "name": "stdout",
     "output_type": "stream",
     "text": [
      "[1] -0.7761684\n",
      "[1] -0.8676594\n"
     ]
    }
   ],
   "source": [
    "## correlation\n",
    "print( cor(mtcars$mpg, mtcars$hp) )\n",
    "print( cor(mtcars$mpg, mtcars$wt) )\n",
    "\n",
    "## correaltion matrix\n",
    "#print( cor(mtcars[, 1:5]) )"
   ]
  },
  {
   "cell_type": "code",
   "execution_count": 7,
   "metadata": {},
   "outputs": [
    {
     "data": {
      "text/html": [
       "<table>\n",
       "<thead><tr><th></th><th scope=col>mpg</th><th scope=col>cyl</th><th scope=col>disp</th><th scope=col>hp</th><th scope=col>drat</th><th scope=col>wt</th><th scope=col>qsec</th><th scope=col>vs</th><th scope=col>am</th><th scope=col>gear</th><th scope=col>carb</th></tr></thead>\n",
       "<tbody>\n",
       "\t<tr><th scope=row>mpg</th><td> 1.0000000 </td><td>-0.8521620 </td><td>-0.8475514 </td><td>-0.7761684 </td><td> 0.68117191</td><td>-0.8676594 </td><td> 0.41868403</td><td> 0.6640389 </td><td> 0.59983243</td><td> 0.4802848 </td><td>-0.55092507</td></tr>\n",
       "\t<tr><th scope=row>cyl</th><td>-0.8521620 </td><td> 1.0000000 </td><td> 0.9020329 </td><td> 0.8324475 </td><td>-0.69993811</td><td> 0.7824958 </td><td>-0.59124207</td><td>-0.8108118 </td><td>-0.52260705</td><td>-0.4926866 </td><td> 0.52698829</td></tr>\n",
       "\t<tr><th scope=row>disp</th><td>-0.8475514 </td><td> 0.9020329 </td><td> 1.0000000 </td><td> 0.7909486 </td><td>-0.71021393</td><td> 0.8879799 </td><td>-0.43369788</td><td>-0.7104159 </td><td>-0.59122704</td><td>-0.5555692 </td><td> 0.39497686</td></tr>\n",
       "\t<tr><th scope=row>hp</th><td>-0.7761684 </td><td> 0.8324475 </td><td> 0.7909486 </td><td> 1.0000000 </td><td>-0.44875912</td><td> 0.6587479 </td><td>-0.70822339</td><td>-0.7230967 </td><td>-0.24320426</td><td>-0.1257043 </td><td> 0.74981247</td></tr>\n",
       "\t<tr><th scope=row>drat</th><td> 0.6811719 </td><td>-0.6999381 </td><td>-0.7102139 </td><td>-0.4487591 </td><td> 1.00000000</td><td>-0.7124406 </td><td> 0.09120476</td><td> 0.4402785 </td><td> 0.71271113</td><td> 0.6996101 </td><td>-0.09078980</td></tr>\n",
       "\t<tr><th scope=row>wt</th><td>-0.8676594 </td><td> 0.7824958 </td><td> 0.8879799 </td><td> 0.6587479 </td><td>-0.71244065</td><td> 1.0000000 </td><td>-0.17471588</td><td>-0.5549157 </td><td>-0.69249526</td><td>-0.5832870 </td><td> 0.42760594</td></tr>\n",
       "\t<tr><th scope=row>qsec</th><td> 0.4186840 </td><td>-0.5912421 </td><td>-0.4336979 </td><td>-0.7082234 </td><td> 0.09120476</td><td>-0.1747159 </td><td> 1.00000000</td><td> 0.7445354 </td><td>-0.22986086</td><td>-0.2126822 </td><td>-0.65624923</td></tr>\n",
       "\t<tr><th scope=row>vs</th><td> 0.6640389 </td><td>-0.8108118 </td><td>-0.7104159 </td><td>-0.7230967 </td><td> 0.44027846</td><td>-0.5549157 </td><td> 0.74453544</td><td> 1.0000000 </td><td> 0.16834512</td><td> 0.2060233 </td><td>-0.56960714</td></tr>\n",
       "\t<tr><th scope=row>am</th><td> 0.5998324 </td><td>-0.5226070 </td><td>-0.5912270 </td><td>-0.2432043 </td><td> 0.71271113</td><td>-0.6924953 </td><td>-0.22986086</td><td> 0.1683451 </td><td> 1.00000000</td><td> 0.7940588 </td><td> 0.05753435</td></tr>\n",
       "\t<tr><th scope=row>gear</th><td> 0.4802848 </td><td>-0.4926866 </td><td>-0.5555692 </td><td>-0.1257043 </td><td> 0.69961013</td><td>-0.5832870 </td><td>-0.21268223</td><td> 0.2060233 </td><td> 0.79405876</td><td> 1.0000000 </td><td> 0.27407284</td></tr>\n",
       "\t<tr><th scope=row>carb</th><td>-0.5509251 </td><td> 0.5269883 </td><td> 0.3949769 </td><td> 0.7498125 </td><td>-0.09078980</td><td> 0.4276059 </td><td>-0.65624923</td><td>-0.5696071 </td><td> 0.05753435</td><td> 0.2740728 </td><td> 1.00000000</td></tr>\n",
       "</tbody>\n",
       "</table>\n"
      ],
      "text/latex": [
       "\\begin{tabular}{r|lllllllllll}\n",
       "  & mpg & cyl & disp & hp & drat & wt & qsec & vs & am & gear & carb\\\\\n",
       "\\hline\n",
       "\tmpg &  1.0000000  & -0.8521620  & -0.8475514  & -0.7761684  &  0.68117191 & -0.8676594  &  0.41868403 &  0.6640389  &  0.59983243 &  0.4802848  & -0.55092507\\\\\n",
       "\tcyl & -0.8521620  &  1.0000000  &  0.9020329  &  0.8324475  & -0.69993811 &  0.7824958  & -0.59124207 & -0.8108118  & -0.52260705 & -0.4926866  &  0.52698829\\\\\n",
       "\tdisp & -0.8475514  &  0.9020329  &  1.0000000  &  0.7909486  & -0.71021393 &  0.8879799  & -0.43369788 & -0.7104159  & -0.59122704 & -0.5555692  &  0.39497686\\\\\n",
       "\thp & -0.7761684  &  0.8324475  &  0.7909486  &  1.0000000  & -0.44875912 &  0.6587479  & -0.70822339 & -0.7230967  & -0.24320426 & -0.1257043  &  0.74981247\\\\\n",
       "\tdrat &  0.6811719  & -0.6999381  & -0.7102139  & -0.4487591  &  1.00000000 & -0.7124406  &  0.09120476 &  0.4402785  &  0.71271113 &  0.6996101  & -0.09078980\\\\\n",
       "\twt & -0.8676594  &  0.7824958  &  0.8879799  &  0.6587479  & -0.71244065 &  1.0000000  & -0.17471588 & -0.5549157  & -0.69249526 & -0.5832870  &  0.42760594\\\\\n",
       "\tqsec &  0.4186840  & -0.5912421  & -0.4336979  & -0.7082234  &  0.09120476 & -0.1747159  &  1.00000000 &  0.7445354  & -0.22986086 & -0.2126822  & -0.65624923\\\\\n",
       "\tvs &  0.6640389  & -0.8108118  & -0.7104159  & -0.7230967  &  0.44027846 & -0.5549157  &  0.74453544 &  1.0000000  &  0.16834512 &  0.2060233  & -0.56960714\\\\\n",
       "\tam &  0.5998324  & -0.5226070  & -0.5912270  & -0.2432043  &  0.71271113 & -0.6924953  & -0.22986086 &  0.1683451  &  1.00000000 &  0.7940588  &  0.05753435\\\\\n",
       "\tgear &  0.4802848  & -0.4926866  & -0.5555692  & -0.1257043  &  0.69961013 & -0.5832870  & -0.21268223 &  0.2060233  &  0.79405876 &  1.0000000  &  0.27407284\\\\\n",
       "\tcarb & -0.5509251  &  0.5269883  &  0.3949769  &  0.7498125  & -0.09078980 &  0.4276059  & -0.65624923 & -0.5696071  &  0.05753435 &  0.2740728  &  1.00000000\\\\\n",
       "\\end{tabular}\n"
      ],
      "text/markdown": [
       "\n",
       "| <!--/--> | mpg | cyl | disp | hp | drat | wt | qsec | vs | am | gear | carb | \n",
       "|---|---|---|---|---|---|---|---|---|---|---|\n",
       "| mpg |  1.0000000  | -0.8521620  | -0.8475514  | -0.7761684  |  0.68117191 | -0.8676594  |  0.41868403 |  0.6640389  |  0.59983243 |  0.4802848  | -0.55092507 | \n",
       "| cyl | -0.8521620  |  1.0000000  |  0.9020329  |  0.8324475  | -0.69993811 |  0.7824958  | -0.59124207 | -0.8108118  | -0.52260705 | -0.4926866  |  0.52698829 | \n",
       "| disp | -0.8475514  |  0.9020329  |  1.0000000  |  0.7909486  | -0.71021393 |  0.8879799  | -0.43369788 | -0.7104159  | -0.59122704 | -0.5555692  |  0.39497686 | \n",
       "| hp | -0.7761684  |  0.8324475  |  0.7909486  |  1.0000000  | -0.44875912 |  0.6587479  | -0.70822339 | -0.7230967  | -0.24320426 | -0.1257043  |  0.74981247 | \n",
       "| drat |  0.6811719  | -0.6999381  | -0.7102139  | -0.4487591  |  1.00000000 | -0.7124406  |  0.09120476 |  0.4402785  |  0.71271113 |  0.6996101  | -0.09078980 | \n",
       "| wt | -0.8676594  |  0.7824958  |  0.8879799  |  0.6587479  | -0.71244065 |  1.0000000  | -0.17471588 | -0.5549157  | -0.69249526 | -0.5832870  |  0.42760594 | \n",
       "| qsec |  0.4186840  | -0.5912421  | -0.4336979  | -0.7082234  |  0.09120476 | -0.1747159  |  1.00000000 |  0.7445354  | -0.22986086 | -0.2126822  | -0.65624923 | \n",
       "| vs |  0.6640389  | -0.8108118  | -0.7104159  | -0.7230967  |  0.44027846 | -0.5549157  |  0.74453544 |  1.0000000  |  0.16834512 |  0.2060233  | -0.56960714 | \n",
       "| am |  0.5998324  | -0.5226070  | -0.5912270  | -0.2432043  |  0.71271113 | -0.6924953  | -0.22986086 |  0.1683451  |  1.00000000 |  0.7940588  |  0.05753435 | \n",
       "| gear |  0.4802848  | -0.4926866  | -0.5555692  | -0.1257043  |  0.69961013 | -0.5832870  | -0.21268223 |  0.2060233  |  0.79405876 |  1.0000000  |  0.27407284 | \n",
       "| carb | -0.5509251  |  0.5269883  |  0.3949769  |  0.7498125  | -0.09078980 |  0.4276059  | -0.65624923 | -0.5696071  |  0.05753435 |  0.2740728  |  1.00000000 | \n",
       "\n",
       "\n"
      ],
      "text/plain": [
       "     mpg        cyl        disp       hp         drat        wt        \n",
       "mpg   1.0000000 -0.8521620 -0.8475514 -0.7761684  0.68117191 -0.8676594\n",
       "cyl  -0.8521620  1.0000000  0.9020329  0.8324475 -0.69993811  0.7824958\n",
       "disp -0.8475514  0.9020329  1.0000000  0.7909486 -0.71021393  0.8879799\n",
       "hp   -0.7761684  0.8324475  0.7909486  1.0000000 -0.44875912  0.6587479\n",
       "drat  0.6811719 -0.6999381 -0.7102139 -0.4487591  1.00000000 -0.7124406\n",
       "wt   -0.8676594  0.7824958  0.8879799  0.6587479 -0.71244065  1.0000000\n",
       "qsec  0.4186840 -0.5912421 -0.4336979 -0.7082234  0.09120476 -0.1747159\n",
       "vs    0.6640389 -0.8108118 -0.7104159 -0.7230967  0.44027846 -0.5549157\n",
       "am    0.5998324 -0.5226070 -0.5912270 -0.2432043  0.71271113 -0.6924953\n",
       "gear  0.4802848 -0.4926866 -0.5555692 -0.1257043  0.69961013 -0.5832870\n",
       "carb -0.5509251  0.5269883  0.3949769  0.7498125 -0.09078980  0.4276059\n",
       "     qsec        vs         am          gear       carb       \n",
       "mpg   0.41868403  0.6640389  0.59983243  0.4802848 -0.55092507\n",
       "cyl  -0.59124207 -0.8108118 -0.52260705 -0.4926866  0.52698829\n",
       "disp -0.43369788 -0.7104159 -0.59122704 -0.5555692  0.39497686\n",
       "hp   -0.70822339 -0.7230967 -0.24320426 -0.1257043  0.74981247\n",
       "drat  0.09120476  0.4402785  0.71271113  0.6996101 -0.09078980\n",
       "wt   -0.17471588 -0.5549157 -0.69249526 -0.5832870  0.42760594\n",
       "qsec  1.00000000  0.7445354 -0.22986086 -0.2126822 -0.65624923\n",
       "vs    0.74453544  1.0000000  0.16834512  0.2060233 -0.56960714\n",
       "am   -0.22986086  0.1683451  1.00000000  0.7940588  0.05753435\n",
       "gear -0.21268223  0.2060233  0.79405876  1.0000000  0.27407284\n",
       "carb -0.65624923 -0.5696071  0.05753435  0.2740728  1.00000000"
      ]
     },
     "metadata": {},
     "output_type": "display_data"
    }
   ],
   "source": [
    "cor(mtcars)"
   ]
  },
  {
   "cell_type": "markdown",
   "metadata": {},
   "source": [
    "## Subsetting\n",
    "\n",
    "is how we get information we want from dataframe (or vector, list, matrix)"
   ]
  },
  {
   "cell_type": "code",
   "execution_count": 8,
   "metadata": {},
   "outputs": [
    {
     "data": {
      "text/html": [
       "<table>\n",
       "<thead><tr><th></th><th scope=col>mpg</th><th scope=col>cyl</th><th scope=col>disp</th><th scope=col>hp</th><th scope=col>drat</th><th scope=col>wt</th><th scope=col>qsec</th><th scope=col>vs</th><th scope=col>am</th><th scope=col>gear</th><th scope=col>carb</th></tr></thead>\n",
       "<tbody>\n",
       "\t<tr><th scope=row>Mazda RX4</th><td>21.0 </td><td>6    </td><td>160  </td><td>110  </td><td>3.90 </td><td>2.620</td><td>16.46</td><td>0    </td><td>1    </td><td>4    </td><td>4    </td></tr>\n",
       "\t<tr><th scope=row>Mazda RX4 Wag</th><td>21.0 </td><td>6    </td><td>160  </td><td>110  </td><td>3.90 </td><td>2.875</td><td>17.02</td><td>0    </td><td>1    </td><td>4    </td><td>4    </td></tr>\n",
       "\t<tr><th scope=row>Datsun 710</th><td>22.8 </td><td>4    </td><td>108  </td><td> 93  </td><td>3.85 </td><td>2.320</td><td>18.61</td><td>1    </td><td>1    </td><td>4    </td><td>1    </td></tr>\n",
       "\t<tr><th scope=row>Hornet 4 Drive</th><td>21.4 </td><td>6    </td><td>258  </td><td>110  </td><td>3.08 </td><td>3.215</td><td>19.44</td><td>1    </td><td>0    </td><td>3    </td><td>1    </td></tr>\n",
       "\t<tr><th scope=row>Hornet Sportabout</th><td>18.7 </td><td>8    </td><td>360  </td><td>175  </td><td>3.15 </td><td>3.440</td><td>17.02</td><td>0    </td><td>0    </td><td>3    </td><td>2    </td></tr>\n",
       "</tbody>\n",
       "</table>\n"
      ],
      "text/latex": [
       "\\begin{tabular}{r|lllllllllll}\n",
       "  & mpg & cyl & disp & hp & drat & wt & qsec & vs & am & gear & carb\\\\\n",
       "\\hline\n",
       "\tMazda RX4 & 21.0  & 6     & 160   & 110   & 3.90  & 2.620 & 16.46 & 0     & 1     & 4     & 4    \\\\\n",
       "\tMazda RX4 Wag & 21.0  & 6     & 160   & 110   & 3.90  & 2.875 & 17.02 & 0     & 1     & 4     & 4    \\\\\n",
       "\tDatsun 710 & 22.8  & 4     & 108   &  93   & 3.85  & 2.320 & 18.61 & 1     & 1     & 4     & 1    \\\\\n",
       "\tHornet 4 Drive & 21.4  & 6     & 258   & 110   & 3.08  & 3.215 & 19.44 & 1     & 0     & 3     & 1    \\\\\n",
       "\tHornet Sportabout & 18.7  & 8     & 360   & 175   & 3.15  & 3.440 & 17.02 & 0     & 0     & 3     & 2    \\\\\n",
       "\\end{tabular}\n"
      ],
      "text/markdown": [
       "\n",
       "| <!--/--> | mpg | cyl | disp | hp | drat | wt | qsec | vs | am | gear | carb | \n",
       "|---|---|---|---|---|\n",
       "| Mazda RX4 | 21.0  | 6     | 160   | 110   | 3.90  | 2.620 | 16.46 | 0     | 1     | 4     | 4     | \n",
       "| Mazda RX4 Wag | 21.0  | 6     | 160   | 110   | 3.90  | 2.875 | 17.02 | 0     | 1     | 4     | 4     | \n",
       "| Datsun 710 | 22.8  | 4     | 108   |  93   | 3.85  | 2.320 | 18.61 | 1     | 1     | 4     | 1     | \n",
       "| Hornet 4 Drive | 21.4  | 6     | 258   | 110   | 3.08  | 3.215 | 19.44 | 1     | 0     | 3     | 1     | \n",
       "| Hornet Sportabout | 18.7  | 8     | 360   | 175   | 3.15  | 3.440 | 17.02 | 0     | 0     | 3     | 2     | \n",
       "\n",
       "\n"
      ],
      "text/plain": [
       "                  mpg  cyl disp hp  drat wt    qsec  vs am gear carb\n",
       "Mazda RX4         21.0 6   160  110 3.90 2.620 16.46 0  1  4    4   \n",
       "Mazda RX4 Wag     21.0 6   160  110 3.90 2.875 17.02 0  1  4    4   \n",
       "Datsun 710        22.8 4   108   93 3.85 2.320 18.61 1  1  4    1   \n",
       "Hornet 4 Drive    21.4 6   258  110 3.08 3.215 19.44 1  0  3    1   \n",
       "Hornet Sportabout 18.7 8   360  175 3.15 3.440 17.02 0  0  3    2   "
      ]
     },
     "metadata": {},
     "output_type": "display_data"
    }
   ],
   "source": [
    "head(mtcars, 5)"
   ]
  },
  {
   "cell_type": "code",
   "execution_count": 9,
   "metadata": {},
   "outputs": [
    {
     "data": {
      "text/html": [
       "110"
      ],
      "text/latex": [
       "110"
      ],
      "text/markdown": [
       "110"
      ],
      "text/plain": [
       "[1] 110"
      ]
     },
     "metadata": {},
     "output_type": "display_data"
    }
   ],
   "source": [
    "mtcars[ 2 , 4 ]"
   ]
  },
  {
   "cell_type": "code",
   "execution_count": 10,
   "metadata": {},
   "outputs": [
    {
     "data": {
      "text/html": [
       "<table>\n",
       "<thead><tr><th></th><th scope=col>mpg</th><th scope=col>cyl</th><th scope=col>disp</th><th scope=col>hp</th><th scope=col>drat</th></tr></thead>\n",
       "<tbody>\n",
       "\t<tr><th scope=row>Mazda RX4</th><td>21.0</td><td>6   </td><td>160 </td><td>110 </td><td>3.90</td></tr>\n",
       "\t<tr><th scope=row>Mazda RX4 Wag</th><td>21.0</td><td>6   </td><td>160 </td><td>110 </td><td>3.90</td></tr>\n",
       "\t<tr><th scope=row>Datsun 710</th><td>22.8</td><td>4   </td><td>108 </td><td> 93 </td><td>3.85</td></tr>\n",
       "</tbody>\n",
       "</table>\n"
      ],
      "text/latex": [
       "\\begin{tabular}{r|lllll}\n",
       "  & mpg & cyl & disp & hp & drat\\\\\n",
       "\\hline\n",
       "\tMazda RX4 & 21.0 & 6    & 160  & 110  & 3.90\\\\\n",
       "\tMazda RX4 Wag & 21.0 & 6    & 160  & 110  & 3.90\\\\\n",
       "\tDatsun 710 & 22.8 & 4    & 108  &  93  & 3.85\\\\\n",
       "\\end{tabular}\n"
      ],
      "text/markdown": [
       "\n",
       "| <!--/--> | mpg | cyl | disp | hp | drat | \n",
       "|---|---|---|\n",
       "| Mazda RX4 | 21.0 | 6    | 160  | 110  | 3.90 | \n",
       "| Mazda RX4 Wag | 21.0 | 6    | 160  | 110  | 3.90 | \n",
       "| Datsun 710 | 22.8 | 4    | 108  |  93  | 3.85 | \n",
       "\n",
       "\n"
      ],
      "text/plain": [
       "              mpg  cyl disp hp  drat\n",
       "Mazda RX4     21.0 6   160  110 3.90\n",
       "Mazda RX4 Wag 21.0 6   160  110 3.90\n",
       "Datsun 710    22.8 4   108   93 3.85"
      ]
     },
     "metadata": {},
     "output_type": "display_data"
    }
   ],
   "source": [
    "## basic subset\n",
    "## row 1-3, column 1-5\n",
    "mtcars[ 1:3 , 1:5 ]"
   ]
  },
  {
   "cell_type": "code",
   "execution_count": 11,
   "metadata": {},
   "outputs": [
    {
     "data": {
      "text/html": [
       "<table>\n",
       "<thead><tr><th></th><th scope=col>mpg</th><th scope=col>cyl</th><th scope=col>disp</th><th scope=col>hp</th><th scope=col>drat</th><th scope=col>wt</th><th scope=col>qsec</th><th scope=col>vs</th><th scope=col>am</th><th scope=col>gear</th><th scope=col>carb</th></tr></thead>\n",
       "<tbody>\n",
       "\t<tr><th scope=row>Mazda RX4</th><td>21.0 </td><td>6    </td><td>160.0</td><td>110  </td><td>3.90 </td><td>2.620</td><td>16.46</td><td>0    </td><td>1    </td><td>4    </td><td>4    </td></tr>\n",
       "\t<tr><th scope=row>Mazda RX4 Wag</th><td>21.0 </td><td>6    </td><td>160.0</td><td>110  </td><td>3.90 </td><td>2.875</td><td>17.02</td><td>0    </td><td>1    </td><td>4    </td><td>4    </td></tr>\n",
       "\t<tr><th scope=row>Datsun 710</th><td>22.8 </td><td>4    </td><td>108.0</td><td> 93  </td><td>3.85 </td><td>2.320</td><td>18.61</td><td>1    </td><td>1    </td><td>4    </td><td>1    </td></tr>\n",
       "\t<tr><th scope=row>Hornet 4 Drive</th><td>21.4 </td><td>6    </td><td>258.0</td><td>110  </td><td>3.08 </td><td>3.215</td><td>19.44</td><td>1    </td><td>0    </td><td>3    </td><td>1    </td></tr>\n",
       "\t<tr><th scope=row>Hornet Sportabout</th><td>18.7 </td><td>8    </td><td>360.0</td><td>175  </td><td>3.15 </td><td>3.440</td><td>17.02</td><td>0    </td><td>0    </td><td>3    </td><td>2    </td></tr>\n",
       "\t<tr><th scope=row>Valiant</th><td>18.1 </td><td>6    </td><td>225.0</td><td>105  </td><td>2.76 </td><td>3.460</td><td>20.22</td><td>1    </td><td>0    </td><td>3    </td><td>1    </td></tr>\n",
       "\t<tr><th scope=row>Duster 360</th><td>14.3 </td><td>8    </td><td>360.0</td><td>245  </td><td>3.21 </td><td>3.570</td><td>15.84</td><td>0    </td><td>0    </td><td>3    </td><td>4    </td></tr>\n",
       "\t<tr><th scope=row>Merc 240D</th><td>24.4 </td><td>4    </td><td>146.7</td><td> 62  </td><td>3.69 </td><td>3.190</td><td>20.00</td><td>1    </td><td>0    </td><td>4    </td><td>2    </td></tr>\n",
       "\t<tr><th scope=row>Merc 230</th><td>22.8 </td><td>4    </td><td>140.8</td><td> 95  </td><td>3.92 </td><td>3.150</td><td>22.90</td><td>1    </td><td>0    </td><td>4    </td><td>2    </td></tr>\n",
       "\t<tr><th scope=row>Merc 280</th><td>19.2 </td><td>6    </td><td>167.6</td><td>123  </td><td>3.92 </td><td>3.440</td><td>18.30</td><td>1    </td><td>0    </td><td>4    </td><td>4    </td></tr>\n",
       "</tbody>\n",
       "</table>\n"
      ],
      "text/latex": [
       "\\begin{tabular}{r|lllllllllll}\n",
       "  & mpg & cyl & disp & hp & drat & wt & qsec & vs & am & gear & carb\\\\\n",
       "\\hline\n",
       "\tMazda RX4 & 21.0  & 6     & 160.0 & 110   & 3.90  & 2.620 & 16.46 & 0     & 1     & 4     & 4    \\\\\n",
       "\tMazda RX4 Wag & 21.0  & 6     & 160.0 & 110   & 3.90  & 2.875 & 17.02 & 0     & 1     & 4     & 4    \\\\\n",
       "\tDatsun 710 & 22.8  & 4     & 108.0 &  93   & 3.85  & 2.320 & 18.61 & 1     & 1     & 4     & 1    \\\\\n",
       "\tHornet 4 Drive & 21.4  & 6     & 258.0 & 110   & 3.08  & 3.215 & 19.44 & 1     & 0     & 3     & 1    \\\\\n",
       "\tHornet Sportabout & 18.7  & 8     & 360.0 & 175   & 3.15  & 3.440 & 17.02 & 0     & 0     & 3     & 2    \\\\\n",
       "\tValiant & 18.1  & 6     & 225.0 & 105   & 2.76  & 3.460 & 20.22 & 1     & 0     & 3     & 1    \\\\\n",
       "\tDuster 360 & 14.3  & 8     & 360.0 & 245   & 3.21  & 3.570 & 15.84 & 0     & 0     & 3     & 4    \\\\\n",
       "\tMerc 240D & 24.4  & 4     & 146.7 &  62   & 3.69  & 3.190 & 20.00 & 1     & 0     & 4     & 2    \\\\\n",
       "\tMerc 230 & 22.8  & 4     & 140.8 &  95   & 3.92  & 3.150 & 22.90 & 1     & 0     & 4     & 2    \\\\\n",
       "\tMerc 280 & 19.2  & 6     & 167.6 & 123   & 3.92  & 3.440 & 18.30 & 1     & 0     & 4     & 4    \\\\\n",
       "\\end{tabular}\n"
      ],
      "text/markdown": [
       "\n",
       "| <!--/--> | mpg | cyl | disp | hp | drat | wt | qsec | vs | am | gear | carb | \n",
       "|---|---|---|---|---|---|---|---|---|---|\n",
       "| Mazda RX4 | 21.0  | 6     | 160.0 | 110   | 3.90  | 2.620 | 16.46 | 0     | 1     | 4     | 4     | \n",
       "| Mazda RX4 Wag | 21.0  | 6     | 160.0 | 110   | 3.90  | 2.875 | 17.02 | 0     | 1     | 4     | 4     | \n",
       "| Datsun 710 | 22.8  | 4     | 108.0 |  93   | 3.85  | 2.320 | 18.61 | 1     | 1     | 4     | 1     | \n",
       "| Hornet 4 Drive | 21.4  | 6     | 258.0 | 110   | 3.08  | 3.215 | 19.44 | 1     | 0     | 3     | 1     | \n",
       "| Hornet Sportabout | 18.7  | 8     | 360.0 | 175   | 3.15  | 3.440 | 17.02 | 0     | 0     | 3     | 2     | \n",
       "| Valiant | 18.1  | 6     | 225.0 | 105   | 2.76  | 3.460 | 20.22 | 1     | 0     | 3     | 1     | \n",
       "| Duster 360 | 14.3  | 8     | 360.0 | 245   | 3.21  | 3.570 | 15.84 | 0     | 0     | 3     | 4     | \n",
       "| Merc 240D | 24.4  | 4     | 146.7 |  62   | 3.69  | 3.190 | 20.00 | 1     | 0     | 4     | 2     | \n",
       "| Merc 230 | 22.8  | 4     | 140.8 |  95   | 3.92  | 3.150 | 22.90 | 1     | 0     | 4     | 2     | \n",
       "| Merc 280 | 19.2  | 6     | 167.6 | 123   | 3.92  | 3.440 | 18.30 | 1     | 0     | 4     | 4     | \n",
       "\n",
       "\n"
      ],
      "text/plain": [
       "                  mpg  cyl disp  hp  drat wt    qsec  vs am gear carb\n",
       "Mazda RX4         21.0 6   160.0 110 3.90 2.620 16.46 0  1  4    4   \n",
       "Mazda RX4 Wag     21.0 6   160.0 110 3.90 2.875 17.02 0  1  4    4   \n",
       "Datsun 710        22.8 4   108.0  93 3.85 2.320 18.61 1  1  4    1   \n",
       "Hornet 4 Drive    21.4 6   258.0 110 3.08 3.215 19.44 1  0  3    1   \n",
       "Hornet Sportabout 18.7 8   360.0 175 3.15 3.440 17.02 0  0  3    2   \n",
       "Valiant           18.1 6   225.0 105 2.76 3.460 20.22 1  0  3    1   \n",
       "Duster 360        14.3 8   360.0 245 3.21 3.570 15.84 0  0  3    4   \n",
       "Merc 240D         24.4 4   146.7  62 3.69 3.190 20.00 1  0  4    2   \n",
       "Merc 230          22.8 4   140.8  95 3.92 3.150 22.90 1  0  4    2   \n",
       "Merc 280          19.2 6   167.6 123 3.92 3.440 18.30 1  0  4    4   "
      ]
     },
     "metadata": {},
     "output_type": "display_data"
    }
   ],
   "source": [
    "mtcars[1:10, ] # all columns"
   ]
  },
  {
   "cell_type": "code",
   "execution_count": 12,
   "metadata": {},
   "outputs": [
    {
     "data": {
      "text/html": [
       "<table>\n",
       "<thead><tr><th></th><th scope=col>cyl</th><th scope=col>disp</th><th scope=col>gear</th></tr></thead>\n",
       "<tbody>\n",
       "\t<tr><th scope=row>Mazda RX4</th><td>6  </td><td>160</td><td>4  </td></tr>\n",
       "\t<tr><th scope=row>Mazda RX4 Wag</th><td>6  </td><td>160</td><td>4  </td></tr>\n",
       "\t<tr><th scope=row>Datsun 710</th><td>4  </td><td>108</td><td>4  </td></tr>\n",
       "\t<tr><th scope=row>Hornet 4 Drive</th><td>6  </td><td>258</td><td>3  </td></tr>\n",
       "\t<tr><th scope=row>Hornet Sportabout</th><td>8  </td><td>360</td><td>3  </td></tr>\n",
       "</tbody>\n",
       "</table>\n"
      ],
      "text/latex": [
       "\\begin{tabular}{r|lll}\n",
       "  & cyl & disp & gear\\\\\n",
       "\\hline\n",
       "\tMazda RX4 & 6   & 160 & 4  \\\\\n",
       "\tMazda RX4 Wag & 6   & 160 & 4  \\\\\n",
       "\tDatsun 710 & 4   & 108 & 4  \\\\\n",
       "\tHornet 4 Drive & 6   & 258 & 3  \\\\\n",
       "\tHornet Sportabout & 8   & 360 & 3  \\\\\n",
       "\\end{tabular}\n"
      ],
      "text/markdown": [
       "\n",
       "| <!--/--> | cyl | disp | gear | \n",
       "|---|---|---|---|---|\n",
       "| Mazda RX4 | 6   | 160 | 4   | \n",
       "| Mazda RX4 Wag | 6   | 160 | 4   | \n",
       "| Datsun 710 | 4   | 108 | 4   | \n",
       "| Hornet 4 Drive | 6   | 258 | 3   | \n",
       "| Hornet Sportabout | 8   | 360 | 3   | \n",
       "\n",
       "\n"
      ],
      "text/plain": [
       "                  cyl disp gear\n",
       "Mazda RX4         6   160  4   \n",
       "Mazda RX4 Wag     6   160  4   \n",
       "Datsun 710        4   108  4   \n",
       "Hornet 4 Drive    6   258  3   \n",
       "Hornet Sportabout 8   360  3   "
      ]
     },
     "metadata": {},
     "output_type": "display_data"
    }
   ],
   "source": [
    "mtcars[ 1:5, c(2,3,10) ] # row 1-5, columns 2,3,10"
   ]
  },
  {
   "cell_type": "code",
   "execution_count": 13,
   "metadata": {},
   "outputs": [],
   "source": [
    "df2 <- mtcars[ 1:5, - c(1,2,3,4,5, 10) ] # unselect column 1,2,3,4,5,10"
   ]
  },
  {
   "cell_type": "code",
   "execution_count": 14,
   "metadata": {},
   "outputs": [
    {
     "data": {
      "text/html": [
       "<table>\n",
       "<thead><tr><th></th><th scope=col>wt</th><th scope=col>qsec</th><th scope=col>vs</th><th scope=col>am</th><th scope=col>carb</th></tr></thead>\n",
       "<tbody>\n",
       "\t<tr><th scope=row>Mazda RX4</th><td>2.620</td><td>16.46</td><td>0    </td><td>1    </td><td>4    </td></tr>\n",
       "\t<tr><th scope=row>Mazda RX4 Wag</th><td>2.875</td><td>17.02</td><td>0    </td><td>1    </td><td>4    </td></tr>\n",
       "\t<tr><th scope=row>Datsun 710</th><td>2.320</td><td>18.61</td><td>1    </td><td>1    </td><td>1    </td></tr>\n",
       "\t<tr><th scope=row>Hornet 4 Drive</th><td>3.215</td><td>19.44</td><td>1    </td><td>0    </td><td>1    </td></tr>\n",
       "\t<tr><th scope=row>Hornet Sportabout</th><td>3.440</td><td>17.02</td><td>0    </td><td>0    </td><td>2    </td></tr>\n",
       "</tbody>\n",
       "</table>\n"
      ],
      "text/latex": [
       "\\begin{tabular}{r|lllll}\n",
       "  & wt & qsec & vs & am & carb\\\\\n",
       "\\hline\n",
       "\tMazda RX4 & 2.620 & 16.46 & 0     & 1     & 4    \\\\\n",
       "\tMazda RX4 Wag & 2.875 & 17.02 & 0     & 1     & 4    \\\\\n",
       "\tDatsun 710 & 2.320 & 18.61 & 1     & 1     & 1    \\\\\n",
       "\tHornet 4 Drive & 3.215 & 19.44 & 1     & 0     & 1    \\\\\n",
       "\tHornet Sportabout & 3.440 & 17.02 & 0     & 0     & 2    \\\\\n",
       "\\end{tabular}\n"
      ],
      "text/markdown": [
       "\n",
       "| <!--/--> | wt | qsec | vs | am | carb | \n",
       "|---|---|---|---|---|\n",
       "| Mazda RX4 | 2.620 | 16.46 | 0     | 1     | 4     | \n",
       "| Mazda RX4 Wag | 2.875 | 17.02 | 0     | 1     | 4     | \n",
       "| Datsun 710 | 2.320 | 18.61 | 1     | 1     | 1     | \n",
       "| Hornet 4 Drive | 3.215 | 19.44 | 1     | 0     | 1     | \n",
       "| Hornet Sportabout | 3.440 | 17.02 | 0     | 0     | 2     | \n",
       "\n",
       "\n"
      ],
      "text/plain": [
       "                  wt    qsec  vs am carb\n",
       "Mazda RX4         2.620 16.46 0  1  4   \n",
       "Mazda RX4 Wag     2.875 17.02 0  1  4   \n",
       "Datsun 710        2.320 18.61 1  1  1   \n",
       "Hornet 4 Drive    3.215 19.44 1  0  1   \n",
       "Hornet Sportabout 3.440 17.02 0  0  2   "
      ]
     },
     "metadata": {},
     "output_type": "display_data"
    }
   ],
   "source": [
    "df2"
   ]
  },
  {
   "cell_type": "markdown",
   "metadata": {},
   "source": [
    "## Introducing dplyr\n",
    "\n",
    "Main library we use to wrangling dataframe in R is `dplyr`"
   ]
  },
  {
   "cell_type": "code",
   "execution_count": 15,
   "metadata": {},
   "outputs": [
    {
     "name": "stderr",
     "output_type": "stream",
     "text": [
      "\n",
      "Attaching package: ‘dplyr’\n",
      "\n",
      "The following objects are masked from ‘package:stats’:\n",
      "\n",
      "    filter, lag\n",
      "\n",
      "The following objects are masked from ‘package:base’:\n",
      "\n",
      "    intersect, setdiff, setequal, union\n",
      "\n"
     ]
    }
   ],
   "source": [
    "## install.packages(\"dplyr\")\n",
    "library(dplyr)"
   ]
  },
  {
   "cell_type": "markdown",
   "metadata": {},
   "source": [
    "## Five functions to remember\n",
    "\n",
    "- `select()`\n",
    "- `filter()`\n",
    "- `arrange()`\n",
    "- `mutate()`\n",
    "- `summarise()`"
   ]
  },
  {
   "cell_type": "code",
   "execution_count": 16,
   "metadata": {},
   "outputs": [
    {
     "data": {
      "text/plain": [
       "      mpg             cyl             disp             hp       \n",
       " Min.   :10.40   Min.   :4.000   Min.   : 71.1   Min.   : 52.0  \n",
       " 1st Qu.:15.43   1st Qu.:4.000   1st Qu.:120.8   1st Qu.: 96.5  \n",
       " Median :19.20   Median :6.000   Median :196.3   Median :123.0  \n",
       " Mean   :20.09   Mean   :6.188   Mean   :230.7   Mean   :146.7  \n",
       " 3rd Qu.:22.80   3rd Qu.:8.000   3rd Qu.:326.0   3rd Qu.:180.0  \n",
       " Max.   :33.90   Max.   :8.000   Max.   :472.0   Max.   :335.0  \n",
       "      drat             wt             qsec             vs        \n",
       " Min.   :2.760   Min.   :1.513   Min.   :14.50   Min.   :0.0000  \n",
       " 1st Qu.:3.080   1st Qu.:2.581   1st Qu.:16.89   1st Qu.:0.0000  \n",
       " Median :3.695   Median :3.325   Median :17.71   Median :0.0000  \n",
       " Mean   :3.597   Mean   :3.217   Mean   :17.85   Mean   :0.4375  \n",
       " 3rd Qu.:3.920   3rd Qu.:3.610   3rd Qu.:18.90   3rd Qu.:1.0000  \n",
       " Max.   :4.930   Max.   :5.424   Max.   :22.90   Max.   :1.0000  \n",
       "       am              gear            carb      \n",
       " Min.   :0.0000   Min.   :3.000   Min.   :1.000  \n",
       " 1st Qu.:0.0000   1st Qu.:3.000   1st Qu.:2.000  \n",
       " Median :0.0000   Median :4.000   Median :2.000  \n",
       " Mean   :0.4062   Mean   :3.688   Mean   :2.812  \n",
       " 3rd Qu.:1.0000   3rd Qu.:4.000   3rd Qu.:4.000  \n",
       " Max.   :1.0000   Max.   :5.000   Max.   :8.000  "
      ]
     },
     "metadata": {},
     "output_type": "display_data"
    }
   ],
   "source": [
    "## head(mtcars , 3)\n",
    "\n",
    "mtcars %>% summary()"
   ]
  },
  {
   "cell_type": "code",
   "execution_count": 17,
   "metadata": {},
   "outputs": [
    {
     "data": {
      "text/html": [
       "<table>\n",
       "<thead><tr><th></th><th scope=col>mpg</th><th scope=col>cyl</th><th scope=col>disp</th><th scope=col>hp</th><th scope=col>drat</th><th scope=col>am</th></tr></thead>\n",
       "<tbody>\n",
       "\t<tr><th scope=row>Mazda RX4</th><td>21.0</td><td>6   </td><td>160 </td><td>110 </td><td>3.90</td><td>1   </td></tr>\n",
       "\t<tr><th scope=row>Mazda RX4 Wag</th><td>21.0</td><td>6   </td><td>160 </td><td>110 </td><td>3.90</td><td>1   </td></tr>\n",
       "\t<tr><th scope=row>Datsun 710</th><td>22.8</td><td>4   </td><td>108 </td><td> 93 </td><td>3.85</td><td>1   </td></tr>\n",
       "\t<tr><th scope=row>Hornet 4 Drive</th><td>21.4</td><td>6   </td><td>258 </td><td>110 </td><td>3.08</td><td>0   </td></tr>\n",
       "\t<tr><th scope=row>Hornet Sportabout</th><td>18.7</td><td>8   </td><td>360 </td><td>175 </td><td>3.15</td><td>0   </td></tr>\n",
       "\t<tr><th scope=row>Valiant</th><td>18.1</td><td>6   </td><td>225 </td><td>105 </td><td>2.76</td><td>0   </td></tr>\n",
       "</tbody>\n",
       "</table>\n"
      ],
      "text/latex": [
       "\\begin{tabular}{r|llllll}\n",
       "  & mpg & cyl & disp & hp & drat & am\\\\\n",
       "\\hline\n",
       "\tMazda RX4 & 21.0 & 6    & 160  & 110  & 3.90 & 1   \\\\\n",
       "\tMazda RX4 Wag & 21.0 & 6    & 160  & 110  & 3.90 & 1   \\\\\n",
       "\tDatsun 710 & 22.8 & 4    & 108  &  93  & 3.85 & 1   \\\\\n",
       "\tHornet 4 Drive & 21.4 & 6    & 258  & 110  & 3.08 & 0   \\\\\n",
       "\tHornet Sportabout & 18.7 & 8    & 360  & 175  & 3.15 & 0   \\\\\n",
       "\tValiant & 18.1 & 6    & 225  & 105  & 2.76 & 0   \\\\\n",
       "\\end{tabular}\n"
      ],
      "text/markdown": [
       "\n",
       "| <!--/--> | mpg | cyl | disp | hp | drat | am | \n",
       "|---|---|---|---|---|---|\n",
       "| Mazda RX4 | 21.0 | 6    | 160  | 110  | 3.90 | 1    | \n",
       "| Mazda RX4 Wag | 21.0 | 6    | 160  | 110  | 3.90 | 1    | \n",
       "| Datsun 710 | 22.8 | 4    | 108  |  93  | 3.85 | 1    | \n",
       "| Hornet 4 Drive | 21.4 | 6    | 258  | 110  | 3.08 | 0    | \n",
       "| Hornet Sportabout | 18.7 | 8    | 360  | 175  | 3.15 | 0    | \n",
       "| Valiant | 18.1 | 6    | 225  | 105  | 2.76 | 0    | \n",
       "\n",
       "\n"
      ],
      "text/plain": [
       "                  mpg  cyl disp hp  drat am\n",
       "Mazda RX4         21.0 6   160  110 3.90 1 \n",
       "Mazda RX4 Wag     21.0 6   160  110 3.90 1 \n",
       "Datsun 710        22.8 4   108   93 3.85 1 \n",
       "Hornet 4 Drive    21.4 6   258  110 3.08 0 \n",
       "Hornet Sportabout 18.7 8   360  175 3.15 0 \n",
       "Valiant           18.1 6   225  105 2.76 0 "
      ]
     },
     "metadata": {},
     "output_type": "display_data"
    }
   ],
   "source": [
    "## select column\n",
    "mtcars %>% \n",
    "    select(1:5, 9, \"am\") %>% \n",
    "    head()"
   ]
  },
  {
   "cell_type": "code",
   "execution_count": 18,
   "metadata": {},
   "outputs": [
    {
     "data": {
      "text/html": [
       "<table>\n",
       "<thead><tr><th scope=col>mpg</th><th scope=col>hp</th><th scope=col>wt</th><th scope=col>group</th></tr></thead>\n",
       "<tbody>\n",
       "\t<tr><td>10.4 </td><td>215  </td><td>5.424</td><td>2    </td></tr>\n",
       "\t<tr><td>14.7 </td><td>230  </td><td>5.345</td><td>2    </td></tr>\n",
       "\t<tr><td>10.4 </td><td>205  </td><td>5.250</td><td>2    </td></tr>\n",
       "\t<tr><td>16.4 </td><td>180  </td><td>4.070</td><td>2    </td></tr>\n",
       "\t<tr><td>19.2 </td><td>175  </td><td>3.845</td><td>2    </td></tr>\n",
       "\t<tr><td>13.3 </td><td>245  </td><td>3.840</td><td>2    </td></tr>\n",
       "\t<tr><td>15.2 </td><td>180  </td><td>3.780</td><td>2    </td></tr>\n",
       "\t<tr><td>17.3 </td><td>180  </td><td>3.730</td><td>2    </td></tr>\n",
       "\t<tr><td>14.3 </td><td>245  </td><td>3.570</td><td>2    </td></tr>\n",
       "\t<tr><td>15.5 </td><td>150  </td><td>3.520</td><td>2    </td></tr>\n",
       "\t<tr><td>18.1 </td><td>105  </td><td>3.460</td><td>1    </td></tr>\n",
       "\t<tr><td>18.7 </td><td>175  </td><td>3.440</td><td>2    </td></tr>\n",
       "\t<tr><td>19.2 </td><td>123  </td><td>3.440</td><td>1    </td></tr>\n",
       "\t<tr><td>17.8 </td><td>123  </td><td>3.440</td><td>1    </td></tr>\n",
       "\t<tr><td>15.2 </td><td>150  </td><td>3.435</td><td>2    </td></tr>\n",
       "\t<tr><td>21.4 </td><td>110  </td><td>3.215</td><td>1    </td></tr>\n",
       "\t<tr><td>21.0 </td><td>110  </td><td>2.875</td><td>1    </td></tr>\n",
       "\t<tr><td>21.4 </td><td>109  </td><td>2.780</td><td>1    </td></tr>\n",
       "\t<tr><td>19.7 </td><td>175  </td><td>2.770</td><td>2    </td></tr>\n",
       "\t<tr><td>21.0 </td><td>110  </td><td>2.620</td><td>1    </td></tr>\n",
       "\t<tr><td>30.4 </td><td>113  </td><td>1.513</td><td>1    </td></tr>\n",
       "</tbody>\n",
       "</table>\n"
      ],
      "text/latex": [
       "\\begin{tabular}{r|llll}\n",
       " mpg & hp & wt & group\\\\\n",
       "\\hline\n",
       "\t 10.4  & 215   & 5.424 & 2    \\\\\n",
       "\t 14.7  & 230   & 5.345 & 2    \\\\\n",
       "\t 10.4  & 205   & 5.250 & 2    \\\\\n",
       "\t 16.4  & 180   & 4.070 & 2    \\\\\n",
       "\t 19.2  & 175   & 3.845 & 2    \\\\\n",
       "\t 13.3  & 245   & 3.840 & 2    \\\\\n",
       "\t 15.2  & 180   & 3.780 & 2    \\\\\n",
       "\t 17.3  & 180   & 3.730 & 2    \\\\\n",
       "\t 14.3  & 245   & 3.570 & 2    \\\\\n",
       "\t 15.5  & 150   & 3.520 & 2    \\\\\n",
       "\t 18.1  & 105   & 3.460 & 1    \\\\\n",
       "\t 18.7  & 175   & 3.440 & 2    \\\\\n",
       "\t 19.2  & 123   & 3.440 & 1    \\\\\n",
       "\t 17.8  & 123   & 3.440 & 1    \\\\\n",
       "\t 15.2  & 150   & 3.435 & 2    \\\\\n",
       "\t 21.4  & 110   & 3.215 & 1    \\\\\n",
       "\t 21.0  & 110   & 2.875 & 1    \\\\\n",
       "\t 21.4  & 109   & 2.780 & 1    \\\\\n",
       "\t 19.7  & 175   & 2.770 & 2    \\\\\n",
       "\t 21.0  & 110   & 2.620 & 1    \\\\\n",
       "\t 30.4  & 113   & 1.513 & 1    \\\\\n",
       "\\end{tabular}\n"
      ],
      "text/markdown": [
       "\n",
       "mpg | hp | wt | group | \n",
       "|---|---|---|---|---|---|---|---|---|---|---|---|---|---|---|---|---|---|---|---|---|\n",
       "| 10.4  | 215   | 5.424 | 2     | \n",
       "| 14.7  | 230   | 5.345 | 2     | \n",
       "| 10.4  | 205   | 5.250 | 2     | \n",
       "| 16.4  | 180   | 4.070 | 2     | \n",
       "| 19.2  | 175   | 3.845 | 2     | \n",
       "| 13.3  | 245   | 3.840 | 2     | \n",
       "| 15.2  | 180   | 3.780 | 2     | \n",
       "| 17.3  | 180   | 3.730 | 2     | \n",
       "| 14.3  | 245   | 3.570 | 2     | \n",
       "| 15.5  | 150   | 3.520 | 2     | \n",
       "| 18.1  | 105   | 3.460 | 1     | \n",
       "| 18.7  | 175   | 3.440 | 2     | \n",
       "| 19.2  | 123   | 3.440 | 1     | \n",
       "| 17.8  | 123   | 3.440 | 1     | \n",
       "| 15.2  | 150   | 3.435 | 2     | \n",
       "| 21.4  | 110   | 3.215 | 1     | \n",
       "| 21.0  | 110   | 2.875 | 1     | \n",
       "| 21.4  | 109   | 2.780 | 1     | \n",
       "| 19.7  | 175   | 2.770 | 2     | \n",
       "| 21.0  | 110   | 2.620 | 1     | \n",
       "| 30.4  | 113   | 1.513 | 1     | \n",
       "\n",
       "\n"
      ],
      "text/plain": [
       "   mpg  hp  wt    group\n",
       "1  10.4 215 5.424 2    \n",
       "2  14.7 230 5.345 2    \n",
       "3  10.4 205 5.250 2    \n",
       "4  16.4 180 4.070 2    \n",
       "5  19.2 175 3.845 2    \n",
       "6  13.3 245 3.840 2    \n",
       "7  15.2 180 3.780 2    \n",
       "8  17.3 180 3.730 2    \n",
       "9  14.3 245 3.570 2    \n",
       "10 15.5 150 3.520 2    \n",
       "11 18.1 105 3.460 1    \n",
       "12 18.7 175 3.440 2    \n",
       "13 19.2 123 3.440 1    \n",
       "14 17.8 123 3.440 1    \n",
       "15 15.2 150 3.435 2    \n",
       "16 21.4 110 3.215 1    \n",
       "17 21.0 110 2.875 1    \n",
       "18 21.4 109 2.780 1    \n",
       "19 19.7 175 2.770 2    \n",
       "20 21.0 110 2.620 1    \n",
       "21 30.4 113 1.513 1    "
      ]
     },
     "metadata": {},
     "output_type": "display_data"
    }
   ],
   "source": [
    "## filter records\n",
    "mtcars %>% \n",
    "    select(mpg, hp, wt) %>%\n",
    "    filter( hp %in% 100:250 ) %>%\n",
    "    arrange( -wt ) %>%\n",
    "    mutate( group = case_when(hp < 150 ~ 1, \n",
    "                              hp >= 150 ~ 2)  )"
   ]
  },
  {
   "cell_type": "code",
   "execution_count": 19,
   "metadata": {},
   "outputs": [
    {
     "data": {
      "text/html": [
       "<table>\n",
       "<thead><tr><th scope=col>mpg</th><th scope=col>cyl</th><th scope=col>disp</th><th scope=col>hp</th><th scope=col>drat</th><th scope=col>wt</th><th scope=col>qsec</th><th scope=col>vs</th><th scope=col>am</th><th scope=col>gear</th><th scope=col>carb</th></tr></thead>\n",
       "<tbody>\n",
       "\t<tr><td>30.4 </td><td>4    </td><td> 75.7</td><td>52   </td><td>4.93 </td><td>1.615</td><td>18.52</td><td>1    </td><td>1    </td><td>4    </td><td>2    </td></tr>\n",
       "\t<tr><td>24.4 </td><td>4    </td><td>146.7</td><td>62   </td><td>3.69 </td><td>3.190</td><td>20.00</td><td>1    </td><td>0    </td><td>4    </td><td>2    </td></tr>\n",
       "\t<tr><td>33.9 </td><td>4    </td><td> 71.1</td><td>65   </td><td>4.22 </td><td>1.835</td><td>19.90</td><td>1    </td><td>1    </td><td>4    </td><td>1    </td></tr>\n",
       "\t<tr><td>32.4 </td><td>4    </td><td> 78.7</td><td>66   </td><td>4.08 </td><td>2.200</td><td>19.47</td><td>1    </td><td>1    </td><td>4    </td><td>1    </td></tr>\n",
       "\t<tr><td>27.3 </td><td>4    </td><td> 79.0</td><td>66   </td><td>4.08 </td><td>1.935</td><td>18.90</td><td>1    </td><td>1    </td><td>4    </td><td>1    </td></tr>\n",
       "\t<tr><td>26.0 </td><td>4    </td><td>120.3</td><td>91   </td><td>4.43 </td><td>2.140</td><td>16.70</td><td>0    </td><td>1    </td><td>5    </td><td>2    </td></tr>\n",
       "\t<tr><td>22.8 </td><td>4    </td><td>108.0</td><td>93   </td><td>3.85 </td><td>2.320</td><td>18.61</td><td>1    </td><td>1    </td><td>4    </td><td>1    </td></tr>\n",
       "\t<tr><td>22.8 </td><td>4    </td><td>140.8</td><td>95   </td><td>3.92 </td><td>3.150</td><td>22.90</td><td>1    </td><td>0    </td><td>4    </td><td>2    </td></tr>\n",
       "\t<tr><td>21.5 </td><td>4    </td><td>120.1</td><td>97   </td><td>3.70 </td><td>2.465</td><td>20.01</td><td>1    </td><td>0    </td><td>3    </td><td>1    </td></tr>\n",
       "</tbody>\n",
       "</table>\n"
      ],
      "text/latex": [
       "\\begin{tabular}{r|lllllllllll}\n",
       " mpg & cyl & disp & hp & drat & wt & qsec & vs & am & gear & carb\\\\\n",
       "\\hline\n",
       "\t 30.4  & 4     &  75.7 & 52    & 4.93  & 1.615 & 18.52 & 1     & 1     & 4     & 2    \\\\\n",
       "\t 24.4  & 4     & 146.7 & 62    & 3.69  & 3.190 & 20.00 & 1     & 0     & 4     & 2    \\\\\n",
       "\t 33.9  & 4     &  71.1 & 65    & 4.22  & 1.835 & 19.90 & 1     & 1     & 4     & 1    \\\\\n",
       "\t 32.4  & 4     &  78.7 & 66    & 4.08  & 2.200 & 19.47 & 1     & 1     & 4     & 1    \\\\\n",
       "\t 27.3  & 4     &  79.0 & 66    & 4.08  & 1.935 & 18.90 & 1     & 1     & 4     & 1    \\\\\n",
       "\t 26.0  & 4     & 120.3 & 91    & 4.43  & 2.140 & 16.70 & 0     & 1     & 5     & 2    \\\\\n",
       "\t 22.8  & 4     & 108.0 & 93    & 3.85  & 2.320 & 18.61 & 1     & 1     & 4     & 1    \\\\\n",
       "\t 22.8  & 4     & 140.8 & 95    & 3.92  & 3.150 & 22.90 & 1     & 0     & 4     & 2    \\\\\n",
       "\t 21.5  & 4     & 120.1 & 97    & 3.70  & 2.465 & 20.01 & 1     & 0     & 3     & 1    \\\\\n",
       "\\end{tabular}\n"
      ],
      "text/markdown": [
       "\n",
       "mpg | cyl | disp | hp | drat | wt | qsec | vs | am | gear | carb | \n",
       "|---|---|---|---|---|---|---|---|---|\n",
       "| 30.4  | 4     |  75.7 | 52    | 4.93  | 1.615 | 18.52 | 1     | 1     | 4     | 2     | \n",
       "| 24.4  | 4     | 146.7 | 62    | 3.69  | 3.190 | 20.00 | 1     | 0     | 4     | 2     | \n",
       "| 33.9  | 4     |  71.1 | 65    | 4.22  | 1.835 | 19.90 | 1     | 1     | 4     | 1     | \n",
       "| 32.4  | 4     |  78.7 | 66    | 4.08  | 2.200 | 19.47 | 1     | 1     | 4     | 1     | \n",
       "| 27.3  | 4     |  79.0 | 66    | 4.08  | 1.935 | 18.90 | 1     | 1     | 4     | 1     | \n",
       "| 26.0  | 4     | 120.3 | 91    | 4.43  | 2.140 | 16.70 | 0     | 1     | 5     | 2     | \n",
       "| 22.8  | 4     | 108.0 | 93    | 3.85  | 2.320 | 18.61 | 1     | 1     | 4     | 1     | \n",
       "| 22.8  | 4     | 140.8 | 95    | 3.92  | 3.150 | 22.90 | 1     | 0     | 4     | 2     | \n",
       "| 21.5  | 4     | 120.1 | 97    | 3.70  | 2.465 | 20.01 | 1     | 0     | 3     | 1     | \n",
       "\n",
       "\n"
      ],
      "text/plain": [
       "  mpg  cyl disp  hp drat wt    qsec  vs am gear carb\n",
       "1 30.4 4    75.7 52 4.93 1.615 18.52 1  1  4    2   \n",
       "2 24.4 4   146.7 62 3.69 3.190 20.00 1  0  4    2   \n",
       "3 33.9 4    71.1 65 4.22 1.835 19.90 1  1  4    1   \n",
       "4 32.4 4    78.7 66 4.08 2.200 19.47 1  1  4    1   \n",
       "5 27.3 4    79.0 66 4.08 1.935 18.90 1  1  4    1   \n",
       "6 26.0 4   120.3 91 4.43 2.140 16.70 0  1  5    2   \n",
       "7 22.8 4   108.0 93 3.85 2.320 18.61 1  1  4    1   \n",
       "8 22.8 4   140.8 95 3.92 3.150 22.90 1  0  4    2   \n",
       "9 21.5 4   120.1 97 3.70 2.465 20.01 1  0  3    1   "
      ]
     },
     "metadata": {},
     "output_type": "display_data"
    }
   ],
   "source": [
    "## arrange\n",
    "mtcars %>% \n",
    "  filter(hp <= 100) %>%\n",
    "  arrange(hp)"
   ]
  },
  {
   "cell_type": "code",
   "execution_count": 20,
   "metadata": {},
   "outputs": [
    {
     "data": {
      "text/html": [
       "<table>\n",
       "<thead><tr><th scope=col>mpg</th><th scope=col>hp</th><th scope=col>wt</th><th scope=col>double_hp</th></tr></thead>\n",
       "<tbody>\n",
       "\t<tr><td>22.8 </td><td>93   </td><td>2.320</td><td>186  </td></tr>\n",
       "\t<tr><td>24.4 </td><td>62   </td><td>3.190</td><td>124  </td></tr>\n",
       "\t<tr><td>22.8 </td><td>95   </td><td>3.150</td><td>190  </td></tr>\n",
       "\t<tr><td>32.4 </td><td>66   </td><td>2.200</td><td>132  </td></tr>\n",
       "\t<tr><td>30.4 </td><td>52   </td><td>1.615</td><td>104  </td></tr>\n",
       "\t<tr><td>33.9 </td><td>65   </td><td>1.835</td><td>130  </td></tr>\n",
       "\t<tr><td>21.5 </td><td>97   </td><td>2.465</td><td>194  </td></tr>\n",
       "\t<tr><td>27.3 </td><td>66   </td><td>1.935</td><td>132  </td></tr>\n",
       "\t<tr><td>26.0 </td><td>91   </td><td>2.140</td><td>182  </td></tr>\n",
       "</tbody>\n",
       "</table>\n"
      ],
      "text/latex": [
       "\\begin{tabular}{r|llll}\n",
       " mpg & hp & wt & double\\_hp\\\\\n",
       "\\hline\n",
       "\t 22.8  & 93    & 2.320 & 186  \\\\\n",
       "\t 24.4  & 62    & 3.190 & 124  \\\\\n",
       "\t 22.8  & 95    & 3.150 & 190  \\\\\n",
       "\t 32.4  & 66    & 2.200 & 132  \\\\\n",
       "\t 30.4  & 52    & 1.615 & 104  \\\\\n",
       "\t 33.9  & 65    & 1.835 & 130  \\\\\n",
       "\t 21.5  & 97    & 2.465 & 194  \\\\\n",
       "\t 27.3  & 66    & 1.935 & 132  \\\\\n",
       "\t 26.0  & 91    & 2.140 & 182  \\\\\n",
       "\\end{tabular}\n"
      ],
      "text/markdown": [
       "\n",
       "mpg | hp | wt | double_hp | \n",
       "|---|---|---|---|---|---|---|---|---|\n",
       "| 22.8  | 93    | 2.320 | 186   | \n",
       "| 24.4  | 62    | 3.190 | 124   | \n",
       "| 22.8  | 95    | 3.150 | 190   | \n",
       "| 32.4  | 66    | 2.200 | 132   | \n",
       "| 30.4  | 52    | 1.615 | 104   | \n",
       "| 33.9  | 65    | 1.835 | 130   | \n",
       "| 21.5  | 97    | 2.465 | 194   | \n",
       "| 27.3  | 66    | 1.935 | 132   | \n",
       "| 26.0  | 91    | 2.140 | 182   | \n",
       "\n",
       "\n"
      ],
      "text/plain": [
       "  mpg  hp wt    double_hp\n",
       "1 22.8 93 2.320 186      \n",
       "2 24.4 62 3.190 124      \n",
       "3 22.8 95 3.150 190      \n",
       "4 32.4 66 2.200 132      \n",
       "5 30.4 52 1.615 104      \n",
       "6 33.9 65 1.835 130      \n",
       "7 21.5 97 2.465 194      \n",
       "8 27.3 66 1.935 132      \n",
       "9 26.0 91 2.140 182      "
      ]
     },
     "metadata": {},
     "output_type": "display_data"
    }
   ],
   "source": [
    "## mutate = create new column\n",
    "mtcars %>% \n",
    "  select(mpg, hp, wt) %>%\n",
    "  filter(hp <= 100) %>%\n",
    "  mutate(double_hp = hp * 2)"
   ]
  },
  {
   "cell_type": "code",
   "execution_count": 21,
   "metadata": {},
   "outputs": [
    {
     "data": {
      "text/html": [
       "<table>\n",
       "<thead><tr><th scope=col>mean_hp</th><th scope=col>sd_hp</th><th scope=col>n</th></tr></thead>\n",
       "<tbody>\n",
       "\t<tr><td>99.47368</td><td>27.96499</td><td>19      </td></tr>\n",
       "</tbody>\n",
       "</table>\n"
      ],
      "text/latex": [
       "\\begin{tabular}{r|lll}\n",
       " mean\\_hp & sd\\_hp & n\\\\\n",
       "\\hline\n",
       "\t 99.47368 & 27.96499 & 19      \\\\\n",
       "\\end{tabular}\n"
      ],
      "text/markdown": [
       "\n",
       "mean_hp | sd_hp | n | \n",
       "|---|\n",
       "| 99.47368 | 27.96499 | 19       | \n",
       "\n",
       "\n"
      ],
      "text/plain": [
       "  mean_hp  sd_hp    n \n",
       "1 99.47368 27.96499 19"
      ]
     },
     "metadata": {},
     "output_type": "display_data"
    }
   ],
   "source": [
    "## summarise \n",
    "mtcars %>%\n",
    "filter( hp <= 150) %>%\n",
    "  summarise(mean_hp = mean(hp), \n",
    "            sd_hp = sd(hp),\n",
    "            n = n())"
   ]
  },
  {
   "cell_type": "markdown",
   "metadata": {},
   "source": [
    "## Group By\n",
    "\n",
    "This is very similar to group by in SQL query"
   ]
  },
  {
   "cell_type": "code",
   "execution_count": 22,
   "metadata": {},
   "outputs": [
    {
     "data": {
      "text/html": [
       "<table>\n",
       "<thead><tr><th scope=col>am</th><th scope=col>mean_hp</th><th scope=col>sd_hp</th><th scope=col>n</th></tr></thead>\n",
       "<tbody>\n",
       "\t<tr><td>0       </td><td>160.2632</td><td>53.90820</td><td>19      </td></tr>\n",
       "\t<tr><td>1       </td><td>126.8462</td><td>84.06232</td><td>13      </td></tr>\n",
       "</tbody>\n",
       "</table>\n"
      ],
      "text/latex": [
       "\\begin{tabular}{r|llll}\n",
       " am & mean\\_hp & sd\\_hp & n\\\\\n",
       "\\hline\n",
       "\t 0        & 160.2632 & 53.90820 & 19      \\\\\n",
       "\t 1        & 126.8462 & 84.06232 & 13      \\\\\n",
       "\\end{tabular}\n"
      ],
      "text/markdown": [
       "\n",
       "am | mean_hp | sd_hp | n | \n",
       "|---|---|\n",
       "| 0        | 160.2632 | 53.90820 | 19       | \n",
       "| 1        | 126.8462 | 84.06232 | 13       | \n",
       "\n",
       "\n"
      ],
      "text/plain": [
       "  am mean_hp  sd_hp    n \n",
       "1 0  160.2632 53.90820 19\n",
       "2 1  126.8462 84.06232 13"
      ]
     },
     "metadata": {},
     "output_type": "display_data"
    }
   ],
   "source": [
    "## group by\n",
    "mtcars %>%\n",
    "  group_by(am) %>%\n",
    "  summarise(mean_hp = mean(hp), \n",
    "            sd_hp = sd(hp),\n",
    "            n = n())"
   ]
  },
  {
   "cell_type": "code",
   "execution_count": 23,
   "metadata": {},
   "outputs": [],
   "source": [
    "## group by more than one columns\n",
    "result <- mtcars %>%\n",
    "  group_by(am, cyl) %>%\n",
    "  summarise(mean_hp = mean(hp),\n",
    "            sd_hp = sd(hp),\n",
    "            n = n())"
   ]
  },
  {
   "cell_type": "code",
   "execution_count": 24,
   "metadata": {},
   "outputs": [
    {
     "data": {
      "text/html": [
       "<table>\n",
       "<thead><tr><th scope=col>am</th><th scope=col>cyl</th><th scope=col>mean_hp</th><th scope=col>sd_hp</th><th scope=col>n</th></tr></thead>\n",
       "<tbody>\n",
       "\t<tr><td>0        </td><td>4        </td><td> 84.66667</td><td>19.65536 </td><td> 3       </td></tr>\n",
       "\t<tr><td>0        </td><td>6        </td><td>115.25000</td><td> 9.17878 </td><td> 4       </td></tr>\n",
       "\t<tr><td>0        </td><td>8        </td><td>194.16667</td><td>33.35984 </td><td>12       </td></tr>\n",
       "\t<tr><td>1        </td><td>4        </td><td> 81.87500</td><td>22.65542 </td><td> 8       </td></tr>\n",
       "\t<tr><td>1        </td><td>6        </td><td>131.66667</td><td>37.52777 </td><td> 3       </td></tr>\n",
       "\t<tr><td>1        </td><td>8        </td><td>299.50000</td><td>50.20458 </td><td> 2       </td></tr>\n",
       "</tbody>\n",
       "</table>\n"
      ],
      "text/latex": [
       "\\begin{tabular}{r|lllll}\n",
       " am & cyl & mean\\_hp & sd\\_hp & n\\\\\n",
       "\\hline\n",
       "\t 0         & 4         &  84.66667 & 19.65536  &  3       \\\\\n",
       "\t 0         & 6         & 115.25000 &  9.17878  &  4       \\\\\n",
       "\t 0         & 8         & 194.16667 & 33.35984  & 12       \\\\\n",
       "\t 1         & 4         &  81.87500 & 22.65542  &  8       \\\\\n",
       "\t 1         & 6         & 131.66667 & 37.52777  &  3       \\\\\n",
       "\t 1         & 8         & 299.50000 & 50.20458  &  2       \\\\\n",
       "\\end{tabular}\n"
      ],
      "text/markdown": [
       "\n",
       "am | cyl | mean_hp | sd_hp | n | \n",
       "|---|---|---|---|---|---|\n",
       "| 0         | 4         |  84.66667 | 19.65536  |  3        | \n",
       "| 0         | 6         | 115.25000 |  9.17878  |  4        | \n",
       "| 0         | 8         | 194.16667 | 33.35984  | 12        | \n",
       "| 1         | 4         |  81.87500 | 22.65542  |  8        | \n",
       "| 1         | 6         | 131.66667 | 37.52777  |  3        | \n",
       "| 1         | 8         | 299.50000 | 50.20458  |  2        | \n",
       "\n",
       "\n"
      ],
      "text/plain": [
       "  am cyl mean_hp   sd_hp    n \n",
       "1 0  4    84.66667 19.65536  3\n",
       "2 0  6   115.25000  9.17878  4\n",
       "3 0  8   194.16667 33.35984 12\n",
       "4 1  4    81.87500 22.65542  8\n",
       "5 1  6   131.66667 37.52777  3\n",
       "6 1  8   299.50000 50.20458  2"
      ]
     },
     "metadata": {},
     "output_type": "display_data"
    }
   ],
   "source": [
    "result"
   ]
  },
  {
   "cell_type": "code",
   "execution_count": 25,
   "metadata": {},
   "outputs": [],
   "source": [
    "write.csv(result, \"result.csv\")"
   ]
  }
 ],
 "metadata": {
  "kernelspec": {
   "display_name": "R (Beta)",
   "language": "R",
   "name": "ir"
  },
  "language_info": {
   "codemirror_mode": "r",
   "file_extension": ".r",
   "mimetype": "text/x-r-source",
   "name": "R",
   "pygments_lexer": "r",
   "version": "3.5.1"
  }
 },
 "nbformat": 4,
 "nbformat_minor": 2
}
